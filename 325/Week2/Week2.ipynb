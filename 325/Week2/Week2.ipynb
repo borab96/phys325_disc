{
 "cells": [
  {
   "cell_type": "markdown",
   "metadata": {},
   "source": [
    "# Week 2: Formulating Newtonian dynamics\n",
    "\n",
    "## Some words on scales\n",
    "\n",
    "In modern physics one specifies a theory for a given *scale* - theories generally don't hold under arbitrary conditions (a fancy word describing exceptions to this rule is 'UV completeness' ). Classical mechanics holds when quantum fluctuations are irrelevant but we will also assume gravity is Newtonian and relativity is Galilean.\n",
    "\n",
    "Let us make that slightly more precise (but still very vague because this isn't a QM course): Suppose points A and B in (flat) space (and) time are connected by a straight classical trajectory. A quantum particle moving from point A and point B can be said to take all possible paths, not just the classical path. Deviations from the classical trajectory are the so-called quantum fluctuations (around the classical *least action* path). When we measure the position of the particle at some time $t$, we expect to get \n",
    "$$\n",
    "q(x,t) = q_{cl}(x,t)+\\delta q(x,t);\n",
    "$$ \n",
    "a known classical position plus some quantum fuzziness. Suppose we measure position with a probe that is sensitive to length scales $\\mu$. Then, the realm of classical physics is $\\mu \\gg |\\delta q|$: A scale where quantum fluctuations are irrelevant to the dynamics. For a numerical sense, you can replace $|\\delta q|$ with the De Broglie wavelength (among other things).\n",
    "\n",
    "> $\\mu$ might be on the order of the diameter of the human pupil, for example (remember diffraction limited optics?). As biological probes of Nature, we typically observe things in the classical regime. \n",
    "\n",
    "Scales will play an increasingly important role in your understanding of physics moving on. Ultimately, our field is about understanding what happens when you tweak $\\mu$ - turn the knob of the microscope or telescope, so to speak, and ask the question \"What structures emerge as you go from quarks to galaxies\"? "
   ]
  },
  {
   "cell_type": "markdown",
   "metadata": {},
   "source": [
    "## Axiomatic construction and formalities\n",
    "\n",
    "Take the following to be true:\n",
    "\n",
    "- Two co-moving observers measure the same time. All physical laws are the same in different inertial coordinate frames. That is, motion is Galilean invariant.\n",
    "- Motion happens in $d$ dimensional Euclidean space and is parameterized by a real variable, time. \n",
    "- Given an initial position, the position at a later time may be obtained *deterministically* by solving a set of second order differential equations. That is, a unique solution exists to the initial value problem describing motion. The solution uniquely parameterizes the path of least resistance/action.  \n",
    ">Not first order for obvious stability reasons: Momentum can be exchanged so at some point you'll end up having to differentiate it wrt to time to describe dynamics.  Why we don't go higher than second order is a delicate question but it *must* be asked. If there is no reason to stop at second order, we shouldn't. Turns out, there is again a (*much* more subtle) stability reason. I might teach you about Ostrogradsky instabilities of higher derivative equations of motion if we have time near the end of the semester. \n"
   ]
  },
  {
   "cell_type": "markdown",
   "metadata": {},
   "source": [
    "**1.1** Let's set the stage. We know that we want to describe the evolution of a point in space and time. We know that time is special in that all coordinate systems measure the same time. Then, we can imagine an $\\mathbb R^3$ attached to each point of $\\mathbb R$, the time axis. Then, the Universe is the direct product of these spaces $\\mathbb R^3\\times \\mathbb R\\cong\\mathbb R^4$. A point in this space is a vector written $(q_1,q_2,q_3;  t)$. The possible transformations of this point leave the time coordinate invariant (by our first assertion).\n",
    "\n",
    ">This should be familiar from 225. The difference is that we have a Euclidean metric on $\\mathbb R^4$. Relativistically, Minkowski spacetime would be $\\mathbb R^{3,1}$ and transformations of the spacetime point do not have to preserve the time coordinate. \n",
    "\n",
    ">If you know some rather sophisticated math, you would call me out here. What I've really defined is the vector space of the *displacements* of the universe meaning that a vector should be understood as  $(\\Delta q_1,\\Delta q_2,\\Delta q_3; \\Delta t)$. Saying we live in $\\mathbb R^4$ is incompatible with our first assertion because it implies that there is a universal origin. Our universe is really a 4 dimensional [affine space](https://en.wikipedia.org/wiki/Affine_space). This is a technical nuance - your intuition will probably serve you well enough.\n",
    "\n",
    "**1.2** Our objective is to describe motion in $\\mathbb R^3$, the space we experience. Let's pedantically define a time interval as the (linear) projection on to the time axis:\n",
    "$$\n",
    "t : \\mathbb{R}^4 \\to \\mathbb R\n",
    "$$\n",
    "We'll abuse notation and use $t$ to refer to the [image](https://en.wikipedia.org/wiki/Image_(mathematics)) of this map. The set of events that correspond to the same time parameter are simultaneous. *The surface of simultaneity is precisely*  $\\mathbb R^3$.\n",
    "\n",
    "> Mathematically, we would say $\\ker t \\cong \\mathbb R^3$ where ker stands for the [kernel](https://en.wikipedia.org/wiki/Kernel_(linear_algebra)) of the map. In this context it is read as the vector subspace of $\\mathbb R^4$ that maps to $0$ under map $t$. You will come across kernels (and images) in 415. They are ubiquitous in algebra.  \n",
    "\n",
    "Solving the equations of motion give us a prescription from going from one surface of simultaneity to the next. Formally, the *position* of a point in time is the map,\n",
    "$$\n",
    "\\vec q: \\mathbb R\\to \\mathbb R^3,\n",
    "$$ \n",
    "that assigns a point on the surface of simultaneity for all $t\\in \\mathbb R$. The end result is a parameterized curve in $\\mathbb R^3$ called the trajectory of the point particle, $(q_1(t), q_2(t), q_3(t))$. [Here is an example](https://christopherchudzicki.github.io/MathBox-Demos/parametric_curves_3D.html?settings=eyJmdW5jdGlvbnMiOnsiYSI6eyJ4IjoiY29zKHQpIiwieSI6InNpbih0KSpjb3NoKHQvNikiLCJ6Ijoic3FydCh0KSIsInQiOjguMjY5OTk5OTk5OTk5OTIsInRNYXgiOjIwfX0sImNvbnRhaW5lcklkIjoibXktbWF0aC1ib3giLCJjYW1lcmEiOnsicG9zaXRpb24iOlswLjYxLDAuNTksMS40OV19LCJub1pvb20iOnRydWUsImZvY3VzIjoxLjY5NTU4MjQ5NTc4MTMxN30=). We can pick any coordinate system to represent the position. Typically, you will encounter problems where you parameterize a vector in the usual rectangular basis but sometimes this will render the problem unsolvable.\n",
    "\n",
    "**1.3** Our third assertion tells us that motion is governed by a second order ordinary differential equation for each component of the position, $q_i$:\n",
    "$$\n",
    "m\\ddot q_i(t) = F(q_i(t),\\dot q_i(t);t) \n",
    "$$   \n",
    "This is Newton's second law of motion, $F=ma$. I've written down the most general functional dependence of the force. Simple problems will usually have forces that depend on position and/or time. More realistically, velocity dependent forces are used to model things like drag (these are essential in modelling fluids). \n",
    "\n",
    "**Note that once you specify $F$, you specify the dynamical system** so the program of Newtonian mechanics is determining what the forces are and where they act. Doing so leaves you with the task of solving a differential equation which you can pass on to a computer.\n",
    "\n",
    "> As it turns out, this is a profound weakness so much so that Newtonian mechanics is practically useless in all but the simplest cases. Here is an example: Paramterize the position of the center of a ball rolling down a large hemisphere by polar angle $\\theta$. At what critical angle $\\theta_c$ will the small ball leave the surface of the hemisphere? \n",
    "You will be able to solve this problem in a few months - you will not even think about forces.  \n",
    "\n"
   ]
  },
  {
   "cell_type": "markdown",
   "metadata": {},
   "source": [
    "## Practical aspects\n",
    "\n",
    "**1.4** The position maps also serve as a coordinate parameterization. So in practice you might describe forces as $\\sum_i F_i(x,y,z)$ or $\\sum F_i(r, \\theta, \\phi)$. Most of the effort that goes into solving problems is choosing *correct* coordinate systems. Note that all coordinate systems on the real line are equivalent, it's a matter of naming the position variable. We will eventually move away from vector coordinates and talk about energies expressed as functions of generalized coordinates. It will turn out that the energetic approach is *much* simpler.\n",
    "\n",
    "**1.5** We will spend most of our time in dimension 2. The simplest problems you will encounter involve embedding the dynamical system in $\\mathbb R^2$ with origin chosen in a physically meaningful way (pivot of a pendulum for example) and parameterizing the motion in suitable coordinates - either polar or rectangular. This will give you two, potentially coupled, second order differential equations at most. It could be that the problem \n",
    "is constrained in such a way that it dimensionally reduces to a 1D problem. A more complicated common problem in dimension 2 is one that reduces to dimension 2 - it is up to you to recognize when this happens.\n",
    "\n",
    "Given a set off coordinates $\\{q_i\\}$, we want to solve the coupled ODEs $m \\ddot q_i = F_i(q_i, \\dot q_i)$ with $i$ in some basis set. We want to write down this vector in the most convenient basis. The standard example we will see over and over is circular motion where $q=(r\\cos \\theta, r\\sin \\theta)$ in cartesion coordinates. \n",
    "\n",
    "> I will do a tricky example in my prelecture in curvilinear coordinates - Motion on the cardoid curve."
   ]
  },
  {
   "cell_type": "markdown",
   "metadata": {},
   "source": [
    "### Extra: Slightly orbital rocket launch - Asymptotic analysis of a nasty ODE\n",
    "\n",
    "Here is a nontrivial application of last week's material regarding series expansions. A differential equation you *can* solve is almost never interesting. You should know what to do when you can't solve a differential equation. One approach is to use numerics which can obfuscate the underlying physics. Another is to limit the scales so that you can develop a controlled expansion around a solution you know. This might be the single most important mathematical tool that you should have in your toolbox. The following example illustrates the techniques of non-dimensionalization and asymptotic expansions. *It is well beyond the scope of this course*. \n",
    "\n",
    "\n",
    "Suppose you launched a rocket straight up with $\\vec F_{prop}(t)= \\alpha m e^{-r/r_0}\\hat r +\\hat r$ for some $\\alpha, r_0>0$. The force of gravity is $\\vec F_{net} = \\frac{-G R^2 m \\hat r}{(|r|+R)^2}$ (you'll see this derived soon enough) with $R$ the radius of the Earth. Then, the third axiom tells us $r(t)$ is the unique solution to \n",
    "$$\n",
    "\\ddot r = 1+\\alpha e^{-r/r_0} - \\frac{G R^2  }{(r+R)^2},\\hspace{2mm} r\\geq 0\n",
    "$$\n",
    "\n",
    "Suppose we are given an initial velocity, $v_0$ and initial position $r=R$. When you sit down to solve a differential equation, you should generally try to get a handle on its dimensions and get rid of them. \n",
    "\n",
    "Choose a characteristic length scale, $r_0$, and time scale, $\\theta$. Then, the parameters $z = r/r_0$ and $\\tau = t/\\theta$ carry no dimensions. Then $r(t)/r_0=z(\\tau)$. $r_0=v_0^2/ G$ looks like a good length scale. The corresponding time scale is $\\theta=v_0/G$. Here you just want to make dimensional sense - the exact expression doesn't matter.\n",
    "\n",
    "Let's rewrite the gravitational term:\n",
    "\n",
    "$$\n",
    "- \\frac{G R^2  }{(r+R)^2} = -\\frac{G}{\\left(\\frac{r}{R } + 1\\right) ^2}=-\\frac{1}{\\left(z \\varepsilon + 1\\right) ^2}\n",
    "$$\n",
    "where $\\varepsilon = \\frac{ r_0}{R}$. Let's say $\\alpha=1$ for this example. Then,"
   ]
  },
  {
   "cell_type": "markdown",
   "metadata": {},
   "source": [
    "$$\n",
    "\\ddot z(\\tau) =1+ e^{- z}-\\frac{1}{(z\\epsilon+1)^2}\n",
    "$$\n",
    "with $z(0)=0$ and $\\dot z(0)=1$. Isn't that prettier?\n",
    "\n",
    "Now suppose your rocket doesn't go too far up so that $r\\ll R$ or alternatively $\\varepsilon <<1$. This is a nonlinear differential equation with the gravitational non-linearity being small. "
   ]
  },
  {
   "cell_type": "markdown",
   "metadata": {},
   "source": [
    "We might try an *asymptotic* expansion of the solution:\n",
    "$$\n",
    "z(\\tau)\\sim z_0(\\tau)+\\varepsilon z_1(\\tau)+...\n",
    "$$\n",
    "because we know $\\varepsilon$ is small. Corresponding, the initial values look like\n",
    "$$\n",
    "z_0(0)+\\epsilon z_1(0)+...=0,\\hspace{2mm} \\dot z_0(0)+\\epsilon \\dot z_1(0)+...=1\n",
    "$$\n",
    "\n",
    "Then, to first order in $\\varepsilon$\n",
    "$$\n",
    "\\ddot z_0+\\varepsilon \\ddot z_1 = 1+e^{-z_0-\\varepsilon z_1}-\\frac{1}{(z_0 \\varepsilon+z_1\\varepsilon^2+1)^2}\\sim 1+e^{-z_0}(1-\\varepsilon z_1)-1+2\\varepsilon z_0\n",
    "$$"
   ]
  },
  {
   "cell_type": "markdown",
   "metadata": {},
   "source": [
    "Here I've incorporated the first order Taylor expansions. Then at zeroth order, we are tasked with solving \n",
    "\n",
    "$$\n",
    "\\ddot z_0 = e^{-z_0},\\hspace{2mm} z_0(0)=0, \\dot z_0(0)=1\n",
    "$$\n",
    "This is a nonlinear diff-eq but can be solved analytically (as you might have seen). I recommend you know how to solve this with Mathematica or an equivalent.\n",
    "$$\n",
    "z_0(\\tau)=\\log \\left(\\frac{-2}{3} \\sinh ^2\\left(\\frac{\\sqrt{3} \\tau}{2}+\\tanh ^{-1}\\left(\\sqrt{3}\\right)\\right)\\right)\n",
    "$$\n",
    "Here we can make a physically motivated simplification: We already know the long $\\tau$ behavior based on the $F_{net}$. Eventually the rocket goes off into space with asymptotically constant acceleration. Let's focus on short $\\tau$ where \n",
    "$$\n",
    "z_0(\\tau) \\sim \\tau \n",
    "$$\n",
    "as you can check by Taylor expansion."
   ]
  },
  {
   "cell_type": "markdown",
   "metadata": {},
   "source": [
    "At first order in $\\varepsilon$, we get \n",
    "$$\n",
    "\\ddot z_1=-z_1 e^{-z_0}+2 z_0,\\hspace{2mm} z_1(0)=\\dot z_1(0)=0\n",
    "$$\n",
    "At this order we can again use Mathematica. This time the solution has to be written in terms of special integrals and is rather nasty but we have achieved our goal: We have described the height of the rocket while it is more or less in the atmosphere. A quick google search of altitude vs. time curves for rockets indicates that we should expect an exponentially increasing solution. That's what we get:\n",
    "\n",
    "![](rocket.png)\n"
   ]
  },
  {
   "cell_type": "markdown",
   "metadata": {},
   "source": [
    "**If $\\alpha=0$ this problem is *much* simpler. Try to describe freefall from low orbit using this technique if you're up for it.**"
   ]
  },
  {
   "cell_type": "markdown",
   "metadata": {},
   "source": [
    "## Further reading \n",
    "\n",
    "[Classical Mechanics](https://link-springer-com.proxy2.library.illinois.edu/book/10.1007/b97649#toc) by Greiner has an extensive math intro with solved problems - it is freely avaliable to you through the library "
   ]
  },
  {
   "cell_type": "code",
   "execution_count": null,
   "metadata": {},
   "outputs": [],
   "source": []
  }
 ],
 "metadata": {
  "kernelspec": {
   "display_name": "Python 3",
   "language": "python",
   "name": "python3"
  },
  "language_info": {
   "codemirror_mode": {
    "name": "ipython",
    "version": 3
   },
   "file_extension": ".py",
   "mimetype": "text/x-python",
   "name": "python",
   "nbconvert_exporter": "python",
   "pygments_lexer": "ipython3",
   "version": "3.8.2"
  }
 },
 "nbformat": 4,
 "nbformat_minor": 4
}
